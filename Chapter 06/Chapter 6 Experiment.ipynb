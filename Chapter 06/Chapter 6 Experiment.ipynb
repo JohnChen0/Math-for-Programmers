{
 "cells": [
  {
   "cell_type": "markdown",
   "id": "164ab113-07a2-4037-bd9f-8be4f00ac9cd",
   "metadata": {},
   "source": [
    "# Non-Abstract Vector Base Class\n",
    "\n",
    "An alternative way to define a `Vector` base class and subclasses such as `Vec2` and `Vec3`.\n",
    "By using a list to store the vector components, we make it possible to define `scale` and\n",
    "`add` methods in the base class, making it easier to define subclasses.\n",
    "\n",
    "Another way to simplify subclass definition is given in Exercise 6.2 of Section 6.1.7 of\n",
    "the book. However, the solution to that exercise uses a tuple as the backing store, making\n",
    "the vector immutable. It also doesn't provide properties such as `x` and `y`.\n",
    "\n",
    "This `Vector` class below, and the one in Exercise 6.2, only work for the \"regular\" type\n",
    "of vectors consisting of a ordered list of numbers (\"coordinate vector\" in Exercise 6.2),\n",
    "and not with the more general vector spaces, such as functions mentioned in Section 6.2.3."
   ]
  },
  {
   "cell_type": "code",
   "execution_count": null,
   "id": "610a153e-1de0-4d33-9397-16cb3b6465d6",
   "metadata": {},
   "outputs": [],
   "source": [
    "# A `Vector` base class that is similar to the one defined in Section 6.1.4 of the book,\n",
    "# but uses a list to store the vector components, and is not abstract.\n",
    "class Vector():\n",
    "    def __init__(self, *parts):\n",
    "        self._parts = list(parts)\n",
    "    def scale(self,scalar):\n",
    "        return type(self)(*(scalar * part for part in self._parts))\n",
    "    def add(self,other):\n",
    "        assert type(self) == type(other)\n",
    "        return type(self)(*(x + y for x, y in zip(self._parts, other._parts)))\n",
    "    def subtract(self,other):\n",
    "        return self.add(-1 * other)\n",
    "    def __mul__(self, scalar):\n",
    "        return self.scale(scalar)\n",
    "    def __rmul__(self, scalar):\n",
    "        return self.scale(scalar)\n",
    "    def __add__(self,other):\n",
    "        return self.add(other)\n",
    "    def __sub__(self,other):\n",
    "        return self.subtract(other)\n",
    "    def __eq__(self,other):\n",
    "        return self._parts == other._parts\n",
    "    def __str__(self):\n",
    "        return f\"Vec{len(self._parts)}(\" + \",\".join(map(str, self._parts)) + \")\"\n",
    "    def __repr__(self):\n",
    "        return str(self)"
   ]
  },
  {
   "cell_type": "code",
   "execution_count": null,
   "id": "ea7a0adb-b00a-4915-a9f6-3777562396bf",
   "metadata": {},
   "outputs": [],
   "source": [
    "# A subclass for 2-dimensional vector.\n",
    "class Vec2(Vector):\n",
    "    def __init__(self,x,y):\n",
    "        super().__init__(x, y)\n",
    "    @property\n",
    "    def x(self):\n",
    "        return self._parts[0]\n",
    "    @x.setter\n",
    "    def x(self, value):\n",
    "        self._parts[0] = value\n",
    "    @property\n",
    "    def y(self):\n",
    "        return self._parts[1]\n",
    "    @y.setter\n",
    "    def y(self, value):\n",
    "        self._parts[1] = value"
   ]
  },
  {
   "cell_type": "code",
   "execution_count": null,
   "id": "edaebf78-9377-48c0-bf51-a5c862c6d1f1",
   "metadata": {},
   "outputs": [],
   "source": [
    "v = 3.0 * Vec2(1,0) + 4.0 * Vec2(0,1)\n",
    "print(v.x, v.y)\n",
    "v.y = 5.0\n",
    "print(v)"
   ]
  },
  {
   "cell_type": "code",
   "execution_count": null,
   "id": "a21ddc49-da2e-44a5-a779-79b149b1f0c9",
   "metadata": {},
   "outputs": [],
   "source": [
    "# A property descriptor to make it easier to define subclass of Vector.\n",
    "class VectorPart:\n",
    "    def __init__(self, index):\n",
    "        self._index = index\n",
    "    def __get__(self, instance, owner):\n",
    "        return instance._parts[self._index]\n",
    "    def __set__(self, instance, value):\n",
    "        instance._parts[self._index] = value"
   ]
  },
  {
   "cell_type": "code",
   "execution_count": null,
   "id": "0d41b49b-7f8f-4d0b-b830-429337e83f5e",
   "metadata": {},
   "outputs": [],
   "source": [
    "# A shorter definition of Vec2, making use of the property descriptor defined above.\n",
    "class Vec2(Vector):\n",
    "    def __init__(self, x, y):\n",
    "        super().__init__(x, y)\n",
    "    x = VectorPart(0)\n",
    "    y = VectorPart(1)"
   ]
  },
  {
   "cell_type": "code",
   "execution_count": null,
   "id": "d19a8b04-e0a4-4e21-bfb3-1ee9cc79ea7a",
   "metadata": {},
   "outputs": [],
   "source": [
    "v = 3.0 * Vec2(1,0) + 4.0 * Vec2(0,1)\n",
    "print(v.x, v.y)\n",
    "v.y = 5.0\n",
    "print(v)"
   ]
  },
  {
   "cell_type": "code",
   "execution_count": null,
   "id": "159adf3a-d832-45ff-bf16-f482adf767f6",
   "metadata": {},
   "outputs": [],
   "source": [
    "class Vec3(Vector):\n",
    "    def __init__(self, x, y, z):\n",
    "        super().__init__(x, y, z)\n",
    "    x = VectorPart(0)\n",
    "    y = VectorPart(1)\n",
    "    z = VectorPart(2)"
   ]
  },
  {
   "cell_type": "code",
   "execution_count": null,
   "id": "2204b2e1-d876-4792-897b-df0bfbca4781",
   "metadata": {},
   "outputs": [],
   "source": [
    "2.0 * (Vec3(1,0,0) + Vec3(0,1,0))"
   ]
  },
  {
   "cell_type": "code",
   "execution_count": null,
   "id": "c92b3325-af44-4a4f-8c97-c804d0c2d9c8",
   "metadata": {},
   "outputs": [],
   "source": [
    "v = Vec3(1, 2, 3)\n",
    "v.z *= 3\n",
    "print(v)"
   ]
  }
 ],
 "metadata": {
  "kernelspec": {
   "display_name": "Python 3 (ipykernel)",
   "language": "python",
   "name": "python3"
  },
  "language_info": {
   "codemirror_mode": {
    "name": "ipython",
    "version": 3
   },
   "file_extension": ".py",
   "mimetype": "text/x-python",
   "name": "python",
   "nbconvert_exporter": "python",
   "pygments_lexer": "ipython3",
   "version": "3.9.13"
  }
 },
 "nbformat": 4,
 "nbformat_minor": 5
}
