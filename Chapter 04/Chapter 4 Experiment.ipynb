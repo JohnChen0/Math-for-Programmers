{
 "cells": [
  {
   "cell_type": "code",
   "execution_count": null,
   "id": "6252ffa1-0b04-4ccf-a7a7-8f7580f768db",
   "metadata": {},
   "outputs": [],
   "source": [
    "import math\n",
    "import sys\n",
    "\n",
    "import transforms\n",
    "import vectors"
   ]
  },
  {
   "cell_type": "markdown",
   "id": "c76e55eb-4c5b-4913-87ad-6147696d4f01",
   "metadata": {},
   "source": [
    "Import `draw_model` function from `draw_model.py`, and then add workarounds to a few issues in this function."
   ]
  },
  {
   "cell_type": "code",
   "execution_count": null,
   "id": "bf1090f9-7a59-413e-afab-2e1b3149c0a0",
   "metadata": {},
   "outputs": [],
   "source": [
    "from draw_model import draw_model\n",
    "\n",
    "# The draw_model function ends by calling quit(), which doesn't exist in jupyter notebook.\n",
    "# Work around it by catching the resulting exception.\n",
    "_draw_model = draw_model\n",
    "def draw_model(*args, **kwargs):\n",
    "    try:\n",
    "        _draw_model(*args, **kwargs)\n",
    "    except NameError as e:\n",
    "        if \"'quit'\" not in e.args[0]:\n",
    "            raise\n",
    "\n",
    "# When the get_matrix parameter is specified, draw_model tries to call multiply_matrix_vector,\n",
    "# which is not defined anywhere. Adding it here. The original intention should be using matrix\n",
    "# multiplication to transform the vertex, but since the rest of the chapter uses transform\n",
    "# function, I am using that here as well. (Transform by matrix will be covered in Chapter 5.)\n",
    "sys.modules['draw_model'].multiply_matrix_vector = lambda f, x: f(x)"
   ]
  },
  {
   "cell_type": "markdown",
   "id": "7e000e6c-ce6b-4c35-9779-815d251398a5",
   "metadata": {},
   "source": [
    "A modified version of the code from `teapot.py`. In addtion to some changes in the implementation details, the most significant difference is the original code applies some transformations to the vertices as they are loaded, while the new code makes no such transformations."
   ]
  },
  {
   "cell_type": "code",
   "execution_count": null,
   "id": "e37bcc52-2f14-49c9-a834-c567caf443a4",
   "metadata": {},
   "outputs": [],
   "source": [
    "def load_vertices(vertex_count, f):\n",
    "    vertices = [None] * vertex_count\n",
    "    for i in range(vertex_count):\n",
    "        v = tuple(map(float, f.readline().split()))\n",
    "        assert len(v) == 3\n",
    "        vertices[i] = v\n",
    "    return vertices\n",
    "\n",
    "def load_polygons():\n",
    "    with open('teapot.off') as f:\n",
    "        line = f.readline()\n",
    "        assert line == 'OFF\\n'\n",
    "\n",
    "        vertex_count, face_count, edge_count = map(int, f.readline().split())\n",
    "\n",
    "        vertices = load_vertices(vertex_count, f)\n",
    "\n",
    "        polys = [None] * face_count\n",
    "        for i in range(face_count):\n",
    "            side_count, *face_vertices = map(int, f.readline().split())\n",
    "            assert side_count == len(face_vertices)\n",
    "            poly = list(map(vertices.__getitem__, face_vertices))\n",
    "            polys[i] = poly\n",
    "\n",
    "        assert f.read() == ''\n",
    "\n",
    "    return polys\n",
    "\n",
    "def triangulate(poly):\n",
    "    if len(poly) < 3:\n",
    "        raise ArgumentException(\"polygons must have at least 3 vertices\")\n",
    "    for i in range(1,len(poly) - 1):\n",
    "        yield (poly[0], poly[i+1], poly[i])\n",
    "\n",
    "def load_triangles(polys=None):\n",
    "    tris = []\n",
    "    if not polys:\n",
    "        polys = load_polygons()\n",
    "    for poly in polys:\n",
    "        for tri in triangulate(poly):\n",
    "            assert(len(tri)==3)\n",
    "            for v in tri:\n",
    "                assert(len(v)==3)\n",
    "            tris.append(tri)\n",
    "    return tris"
   ]
  },
  {
   "cell_type": "code",
   "execution_count": null,
   "id": "03791a0e-f054-411b-8b63-89e5b4632264",
   "metadata": {},
   "outputs": [],
   "source": [
    "tris0 = load_triangles()"
   ]
  },
  {
   "cell_type": "code",
   "execution_count": null,
   "id": "c376f048-72ae-487b-ae5b-c7777a6df933",
   "metadata": {},
   "outputs": [],
   "source": [
    "# Find the bounding box of teacup.\n",
    "min_x = min_y = min_z = float('inf')\n",
    "max_x = max_y = max_z = -float('inf')\n",
    "for tri in tris0:\n",
    "    for vertex in tri:\n",
    "        min_x = min(min_x, vertex[0])\n",
    "        min_y = min(min_y, vertex[1])\n",
    "        min_z = min(min_z, vertex[2])\n",
    "        max_x = max(max_x, vertex[0])\n",
    "        max_y = max(max_y, vertex[1])\n",
    "        max_z = max(max_z, vertex[2])\n",
    "print('Bounding box:')\n",
    "print(f'x: [{min_x}, {max_x}]')\n",
    "print(f'y: [{min_y}, {max_y}]')\n",
    "print(f'z: [{min_z}, {max_z}]')"
   ]
  },
  {
   "cell_type": "code",
   "execution_count": null,
   "id": "301baca1-b0ff-459d-b40f-91154b92aaad",
   "metadata": {},
   "outputs": [],
   "source": [
    "draw_model(tris0)"
   ]
  },
  {
   "cell_type": "markdown",
   "id": "f034b287-47d0-4e22-9d0a-76eca1f00b51",
   "metadata": {},
   "source": [
    "Apply the transforms from the original `teapot.py`."
   ]
  },
  {
   "cell_type": "markdown",
   "id": "b6488ca6-0070-4f2f-888a-3294dee707f8",
   "metadata": {},
   "source": [
    "First, translate the center of the teapot to the origin."
   ]
  },
  {
   "cell_type": "code",
   "execution_count": null,
   "id": "eba40a7e-35f7-4068-9d3f-faf51d413964",
   "metadata": {},
   "outputs": [],
   "source": [
    "tris1 = transforms.polygon_map(transforms.translate_by((-0.5, 0.0, -0.6)), tris0)"
   ]
  },
  {
   "cell_type": "code",
   "execution_count": null,
   "id": "a203c0bd-378a-4492-9819-c471df9f4a62",
   "metadata": {},
   "outputs": [],
   "source": [
    "draw_model(tris1)"
   ]
  },
  {
   "cell_type": "markdown",
   "id": "733e429c-b7d3-4726-9590-e571b7b1b5ab",
   "metadata": {},
   "source": [
    "Then, rotate by x-axis so we see the side of the teapot, instead of the top."
   ]
  },
  {
   "cell_type": "code",
   "execution_count": null,
   "id": "65f9ab50-f9d4-484c-83af-68add3b4d440",
   "metadata": {},
   "outputs": [],
   "source": [
    "tris2 = transforms.polygon_map(transforms.rotate_x_by(-math.pi / 2), tris1)"
   ]
  },
  {
   "cell_type": "code",
   "execution_count": null,
   "id": "10c15da2-b45f-4d5b-aba3-cdb585893841",
   "metadata": {},
   "outputs": [],
   "source": [
    "draw_model(tris2)"
   ]
  },
  {
   "cell_type": "markdown",
   "id": "065662cf-6892-42d3-8b9f-30c9623044c9",
   "metadata": {},
   "source": [
    "Finally, scale to make the teapot larger. Now we get the same image as the original `draw_teapot.py`, shown on the left side of Figure 4.2."
   ]
  },
  {
   "cell_type": "code",
   "execution_count": null,
   "id": "849ad43b-0eb8-4003-8a89-b571c62b8aab",
   "metadata": {},
   "outputs": [],
   "source": [
    "tris = tris3 = transforms.polygon_map(transforms.scale_by(2), tris2)"
   ]
  },
  {
   "cell_type": "code",
   "execution_count": null,
   "id": "cbc18e30-32ec-4111-80ac-7786b97523b5",
   "metadata": {},
   "outputs": [],
   "source": [
    "draw_model(tris)"
   ]
  },
  {
   "cell_type": "markdown",
   "id": "97a7daf4-c94f-4315-bbf7-59f277f61b69",
   "metadata": {},
   "source": [
    "**Note** The bottom of the teapot is missing or improperly drawn, as demonstrated by the following rotated views."
   ]
  },
  {
   "cell_type": "code",
   "execution_count": null,
   "id": "093ea8d6-be85-4362-8659-8176b6e275c4",
   "metadata": {},
   "outputs": [],
   "source": [
    "draw_model(transforms.polygon_map(transforms.rotate_x_by(-math.pi / 4), tris))\n",
    "draw_model(transforms.polygon_map(transforms.rotate_x_by(-math.pi / 2), tris))"
   ]
  },
  {
   "cell_type": "markdown",
   "id": "f9d12725-391f-4caa-9e70-3a9797bcde29",
   "metadata": {},
   "source": [
    "**Figure 4.3** Use animation to show the individual images as the teapot is rotated by 45 degrees."
   ]
  },
  {
   "cell_type": "code",
   "execution_count": null,
   "id": "74afd79a-79a2-4a50-bd23-2c52a64a089f",
   "metadata": {},
   "outputs": [],
   "source": [
    "draw_model(\n",
    "    tris,\n",
    "    get_matrix=lambda tick: transforms.rotate_z_by(min(tick // 100 % 60, 45) * math.pi / 180))"
   ]
  },
  {
   "cell_type": "markdown",
   "id": "aa6ab7b8-a222-48e5-8731-8796ca7a95e7",
   "metadata": {},
   "source": [
    "**Exercise 4.3** Scale the teapot by -1, and then rotate it to show all the images depicted in the exercise."
   ]
  },
  {
   "cell_type": "code",
   "execution_count": null,
   "id": "a35f0bc5-d076-400d-8f24-9906127f7323",
   "metadata": {},
   "outputs": [],
   "source": [
    "draw_model(\n",
    "    transforms.polygon_map(transforms.scale_by(-1), tris),\n",
    "    get_matrix=lambda tick: transforms.rotate_x_by((tick // 2000 % 10) * math.pi / 5))"
   ]
  },
  {
   "cell_type": "markdown",
   "id": "5728bff9-e428-45a0-87db-0cbeb710dbc6",
   "metadata": {},
   "source": [
    "**Exercise 4.8** The statements given in the solution are not correct.\n",
    "As demonstrated below, `compose(rotate_z_by(pi/2),rotate_x_by(pi/2))` is quite different from `rotate_y_by(pi/2)`."
   ]
  },
  {
   "cell_type": "code",
   "execution_count": null,
   "id": "6e3bd9a2-4b31-4151-a613-0fe5bf0a5305",
   "metadata": {},
   "outputs": [],
   "source": [
    "def compare_transforms(tr1, tr2, tris):\n",
    "    tr1x = transforms.compose(transforms.translate_by((-1, 0, 0)), transforms.scale_by(0.5), tr1)\n",
    "    tr2x = transforms.compose(transforms.translate_by(( 1, 0, 0)), transforms.scale_by(0.5), tr2)\n",
    "    draw_model(transforms.polygon_map(tr1x, tris) + transforms.polygon_map(tr2x, tris))"
   ]
  },
  {
   "cell_type": "code",
   "execution_count": null,
   "id": "3cc62afa-61be-4d40-af65-c4e05eb24a41",
   "metadata": {},
   "outputs": [],
   "source": [
    "compare_transforms(\n",
    "    transforms.compose(transforms.rotate_z_by(math.pi / 2), transforms.rotate_x_by(math.pi / 2)),\n",
    "    transforms.rotate_y_by(math.pi / 2),\n",
    "    tris)"
   ]
  },
  {
   "cell_type": "markdown",
   "id": "213cc3f9-4f54-43a9-bc6f-817daf92956a",
   "metadata": {},
   "source": [
    "Similarly, `compose(rotate_x_by(pi/2), rotate_z_by(pi/2))` is quite different from `rotate_y_by(-pi/2)`."
   ]
  },
  {
   "cell_type": "code",
   "execution_count": null,
   "id": "a8a83762-db23-4120-8908-118f5918a4ba",
   "metadata": {},
   "outputs": [],
   "source": [
    "compare_transforms(\n",
    "    transforms.compose(transforms.rotate_x_by(math.pi / 2), transforms.rotate_z_by(math.pi / 2)),\n",
    "    transforms.rotate_y_by(-math.pi / 2),\n",
    "    tris)"
   ]
  },
  {
   "cell_type": "markdown",
   "id": "73cdacc2-7ef1-4f77-adbc-b39aca4b2bc6",
   "metadata": {},
   "source": [
    "On the other hand, `compose(rotate_z_by(pi/2), rotate_x_by(pi/2))`\n",
    "is the same as `compose(rotate_x_by(pi/2), rotate_y_by(-pi/2))`."
   ]
  },
  {
   "cell_type": "code",
   "execution_count": null,
   "id": "dc6cc34c-bbac-4935-acf3-52804b3de625",
   "metadata": {},
   "outputs": [],
   "source": [
    "compare_transforms(\n",
    "    transforms.compose(transforms.rotate_z_by(math.pi / 2), transforms.rotate_x_by(math.pi / 2)),\n",
    "    transforms.compose(transforms.rotate_x_by(math.pi / 2), transforms.rotate_y_by(-math.pi / 2)),\n",
    "    tris)"
   ]
  },
  {
   "cell_type": "markdown",
   "id": "0b212b71-18fe-4f82-b1cf-4d7845228c3c",
   "metadata": {},
   "source": [
    "**Experiment: Rotate simple objects.**"
   ]
  },
  {
   "cell_type": "code",
   "execution_count": null,
   "id": "73f9bfdf-aec5-40e5-acdf-4c8b4648eb05",
   "metadata": {},
   "outputs": [],
   "source": [
    "# An implementation of get_matrix function to keep rotating object along x-axis.\n",
    "def x_rotator(period):\n",
    "    initial_tick = -1\n",
    "    def get_matrix(tick):\n",
    "        # When pygame is initialized, tick is set to 0. However, by the time rendering starts,\n",
    "        # a major fracion of a second has already passed. To ensure that we start rotation\n",
    "        # from the initial position, we remember the time when get_matrix is called for the\n",
    "        # first time.\n",
    "        nonlocal initial_tick\n",
    "        if initial_tick < 0:\n",
    "            initial_tick = tick\n",
    "        # There are 1000 ticks per second.\n",
    "        angle = (tick - initial_tick) / 1000 / period * 2 * math.pi\n",
    "        return transforms.rotate_x_by(angle)\n",
    "    return get_matrix"
   ]
  },
  {
   "cell_type": "code",
   "execution_count": null,
   "id": "e2f22426-80cc-4dd8-9759-0d15a673229b",
   "metadata": {},
   "outputs": [],
   "source": [
    "# A single triangle facing the viewer.\n",
    "single = [[(*vectors.to_cartesian((1, angle * math.pi / 180)), 0.0) for angle in range(90, 90+360, 120)]]\n",
    "print(single)"
   ]
  },
  {
   "cell_type": "code",
   "execution_count": null,
   "id": "5ef3a563-3a94-4bca-bb73-12ad6a5868cf",
   "metadata": {},
   "outputs": [],
   "source": [
    "# Show a rotating single triangle. Note that the triangle is invisible during half of the rotation.\n",
    "draw_model(single, get_matrix=x_rotator(5))"
   ]
  },
  {
   "cell_type": "code",
   "execution_count": null,
   "id": "31c7076a-6d7b-486c-9d85-6a92104a8a60",
   "metadata": {},
   "outputs": [],
   "source": [
    "# Two triangles back to back.\n",
    "double = single + transforms.polygon_map(transforms.rotate_y_by(math.pi), single)"
   ]
  },
  {
   "cell_type": "code",
   "execution_count": null,
   "id": "ceab7c6d-2dc1-4dee-b72b-9bad9b641907",
   "metadata": {},
   "outputs": [],
   "source": [
    "# Rotate both triangles together. They take turn to become visible.\n",
    "draw_model(double, get_matrix=x_rotator(5))"
   ]
  },
  {
   "cell_type": "markdown",
   "id": "dda2f9c1-40d7-42db-be3d-b6d20e79795e",
   "metadata": {},
   "source": [
    "**Experiment: Hidden surface elimination.**\n",
    "* A triangle facing the viewer blocks the view of other triangles behind it.\n",
    "* On the other hand, a triangle facing away from the user (and thus invisible) does not hide objects behind it."
   ]
  },
  {
   "cell_type": "code",
   "execution_count": null,
   "id": "9cb1873a-35e5-48fb-90fe-b2ee8b2fbb23",
   "metadata": {},
   "outputs": [],
   "source": [
    "draw_model(\n",
    "    single\n",
    "    + transforms.polygon_map(transforms.compose(transforms.scale_by(0.7), transforms.rotate_x_by(    math.pi / 4)), single)  # Visible\n",
    "    + transforms.polygon_map(transforms.compose(transforms.scale_by(0.7), transforms.rotate_x_by(3 * math.pi / 4)), single)) # Invisible"
   ]
  }
 ],
 "metadata": {
  "kernelspec": {
   "display_name": "Python 3 (ipykernel)",
   "language": "python",
   "name": "python3"
  },
  "language_info": {
   "codemirror_mode": {
    "name": "ipython",
    "version": 3
   },
   "file_extension": ".py",
   "mimetype": "text/x-python",
   "name": "python",
   "nbconvert_exporter": "python",
   "pygments_lexer": "ipython3",
   "version": "3.9.13"
  }
 },
 "nbformat": 4,
 "nbformat_minor": 5
}
