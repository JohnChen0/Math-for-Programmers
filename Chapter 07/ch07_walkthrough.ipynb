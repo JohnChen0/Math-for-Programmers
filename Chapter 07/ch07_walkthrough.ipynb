{
 "cells": [
  {
   "cell_type": "markdown",
   "id": "7abae86a-1f8a-4b1a-b704-0974e8658edb",
   "metadata": {},
   "source": [
    "# 7 Solving systems of linear equations"
   ]
  },
  {
   "cell_type": "code",
   "execution_count": null,
   "id": "ea4f4daf-12b3-425a-af68-1ee6b52ccaa0",
   "metadata": {},
   "outputs": [],
   "source": [
    "from math import pi, sqrt, cos, sin, atan2\n",
    "from random import randint, uniform\n",
    "\n",
    "import matplotlib.pyplot as plt\n",
    "import numpy as np\n",
    "import pygame\n",
    "\n",
    "import vectors\n",
    "from vectors import distance"
   ]
  },
  {
   "cell_type": "markdown",
   "id": "b852d3dc-f857-4846-90be-7d10c2734580",
   "metadata": {},
   "source": [
    "## 7.1 Designing an arcade game"
   ]
  },
  {
   "cell_type": "markdown",
   "id": "d79e08e8-ac77-46bb-9981-ce0e9294fa94",
   "metadata": {},
   "source": [
    "### 7.1.1 Modeling the game"
   ]
  },
  {
   "cell_type": "code",
   "execution_count": null,
   "id": "f974b547-2983-44f0-b2fb-e7ea03412e47",
   "metadata": {},
   "outputs": [],
   "source": [
    "class PolygonModel():\n",
    "    def __init__(self,points):\n",
    "        self.points = points\n",
    "        self.rotation_angle = 0\n",
    "        self.x = 0\n",
    "        self.y = 0\n",
    "\n",
    "class Ship(PolygonModel):\n",
    "    def __init__(self):\n",
    "        super().__init__([(0.5,0), (-0.25,0.25), (-0.25,-0.25)])\n",
    "\n",
    "class Asteroid(PolygonModel):\n",
    "    def __init__(self):\n",
    "        sides = randint(5,9)\n",
    "        vs = [vectors.to_cartesian((uniform(0.5,1.0), 2 * pi * i / sides))\n",
    "                for i in range(0,sides)]\n",
    "        super().__init__(vs)"
   ]
  },
  {
   "cell_type": "markdown",
   "id": "3f3c932a-064e-47fb-92ca-487d77e874f4",
   "metadata": {},
   "source": [
    "### 7.1.2 Rendering the game"
   ]
  },
  {
   "cell_type": "code",
   "execution_count": null,
   "id": "04553207-2b4c-4a9b-9fc1-51c2d572de6f",
   "metadata": {},
   "outputs": [],
   "source": [
    "ship = Ship()\n",
    "\n",
    "asteroid_count = 10\n",
    "asteroids = [Asteroid() for _ in range(0,asteroid_count)]\n",
    "\n",
    "for ast in asteroids:\n",
    "    ast.x = randint(-9,9)\n",
    "    ast.y = randint(-9,9)\n",
    "\n",
    "GREEN = (  0, 255,   0)\n",
    "def draw_poly(screen, polygon_model, color=GREEN):\n",
    "    pixel_points = [to_pixels(x,y) for x,y in polygon_model.transformed()]\n",
    "    pygame.draw.aalines(screen, color, True, pixel_points, 10)"
   ]
  },
  {
   "cell_type": "markdown",
   "id": "152d404e-b11a-4208-9059-8303ae1709d9",
   "metadata": {},
   "source": [
    "### 7.1.3 Shooting the laser"
   ]
  },
  {
   "cell_type": "code",
   "execution_count": null,
   "id": "248c5295-d4bd-4dfa-a2b7-bb27391c34cf",
   "metadata": {},
   "outputs": [],
   "source": [
    "def Ship__laser_segment(self):\n",
    "    dist = 20. * sqrt(2)\n",
    "    x,y = self.transformed()[0]\n",
    "    return (x,y), (x + dist * cos(self.rotation_angle), y + dist*sin(self.rotation_angle))\n",
    "\n",
    "Ship.laser_segment = Ship__laser_segment"
   ]
  },
  {
   "cell_type": "code",
   "execution_count": null,
   "id": "b3498f88-0b6c-4c50-b610-9182b1a0ecc0",
   "metadata": {},
   "outputs": [],
   "source": [
    "def check_fire_laser():\n",
    "    laser = ship.laser_segment()\n",
    "    keys = pygame.key.get_pressed()\n",
    "    if keys[pygame.K_SPACE]:\n",
    "        draw_segment(screen, *laser)\n",
    "        for asteroid in asteroids:\n",
    "            if asteroid.does_intersect(laser):\n",
    "                asteroids.remove(asteroid)"
   ]
  },
  {
   "cell_type": "markdown",
   "id": "975be0dd-f4dd-4e6e-ae43-e8a18e938cce",
   "metadata": {},
   "source": [
    "### 7.1.4 Exercise"
   ]
  },
  {
   "cell_type": "markdown",
   "id": "119f993e-4f41-4454-b6a2-6b70868fe89a",
   "metadata": {},
   "source": [
    "**Exercise 7.1** Implement `PolygonModel.transformed()` method"
   ]
  },
  {
   "cell_type": "code",
   "execution_count": null,
   "id": "9a92b38a-6a8d-4376-ab69-23b9b9c876bf",
   "metadata": {},
   "outputs": [],
   "source": [
    "def PolygonModel__transformed(self):\n",
    "    rotated = [vectors.rotate2d(self.rotation_angle, v) for v in self.points]\n",
    "    return [vectors.add((self.x,self.y),v) for v in rotated]\n",
    "\n",
    "PolygonModel.transformed = PolygonModel__transformed"
   ]
  },
  {
   "cell_type": "markdown",
   "id": "5cba51e9-b76f-4e4c-9ba4-c64ea6752900",
   "metadata": {},
   "source": [
    "**Exercise 7.2** Write function `to_pixels(x,y)`"
   ]
  },
  {
   "cell_type": "code",
   "execution_count": null,
   "id": "3d47dd1a-5390-47d2-908d-3ae601c12f3d",
   "metadata": {},
   "outputs": [],
   "source": [
    "width, height = 400, 400\n",
    "def to_pixels(x,y):\n",
    "    return (width/2 + width * x / 20, height/2 - height * y / 20)"
   ]
  },
  {
   "cell_type": "markdown",
   "id": "ac9420ca-e199-436b-b936-c6e163c466bd",
   "metadata": {},
   "source": [
    "### pygame code"
   ]
  },
  {
   "cell_type": "markdown",
   "id": "b0f53c39-b023-4d43-b8d7-d38933e83fa8",
   "metadata": {},
   "source": [
    "Helper functions"
   ]
  },
  {
   "cell_type": "code",
   "execution_count": null,
   "id": "8262e26c-cd8d-415f-b20a-9189a762e665",
   "metadata": {},
   "outputs": [],
   "source": [
    "WHITE = (255, 255, 255)\n",
    "RED =   (255,   0,   0)\n",
    "\n",
    "def init_pygame():\n",
    "    global screen, done, clock\n",
    "\n",
    "    pygame.init()\n",
    "    screen = pygame.display.set_mode([width,height])\n",
    "    pygame.display.set_caption(\"Asteroids!\")\n",
    "    done = False\n",
    "    clock = pygame.time.Clock()\n",
    "\n",
    "def start_loop():\n",
    "    global done, milliseconds\n",
    "\n",
    "    for event in pygame.event.get(): # User did something\n",
    "        if event.type == pygame.QUIT: # If user clicked close\n",
    "            done=True # Flag that we are done so we exit this loop\n",
    "\n",
    "    clock.tick()\n",
    "    milliseconds = clock.get_time()\n",
    "\n",
    "    screen.fill(WHITE)\n",
    "\n",
    "def draw_segment(screen, v1,v2,color=RED):\n",
    "    pygame.draw.aaline(screen, color, to_pixels(*v1), to_pixels(*v2), 10)\n",
    "\n",
    "def draw_objects():\n",
    "    draw_poly(screen,ship)\n",
    "    for asteroid in asteroids:\n",
    "        draw_poly(screen, asteroid, color=GREEN)"
   ]
  },
  {
   "cell_type": "markdown",
   "id": "fefe94fc-2171-4f2a-95e4-21d6f6aa34bc",
   "metadata": {},
   "source": [
    "Drawing of the ship and asteroids"
   ]
  },
  {
   "cell_type": "code",
   "execution_count": null,
   "id": "1e8b6da1-d283-4d98-b7e0-d02e62e6458e",
   "metadata": {},
   "outputs": [],
   "source": [
    "init_pygame()\n",
    "while not done:\n",
    "    start_loop()\n",
    "    draw_objects()\n",
    "    pygame.display.flip()\n",
    "pygame.quit()"
   ]
  },
  {
   "cell_type": "markdown",
   "id": "d6a7e5ea-9bee-4f8b-9481-3f35d77066fc",
   "metadata": {},
   "source": [
    "## 7.2 Finding intersection points of lines"
   ]
  },
  {
   "cell_type": "markdown",
   "id": "b3216d8f-beae-4273-8979-5acba522bfe1",
   "metadata": {},
   "source": [
    "### 7.2.5 Deciding whether the laser hits an asteroid"
   ]
  },
  {
   "cell_type": "code",
   "execution_count": null,
   "id": "914253a8-3fcc-498f-9f4d-1deece836ae6",
   "metadata": {},
   "outputs": [],
   "source": [
    "def intersection(u1,u2,v1,v2):\n",
    "    a1, b1, c1 = standard_form(u1,u2)\n",
    "    a2, b2, c2 = standard_form(v1,v2)\n",
    "    m = np.array(((a1,b1),(a2,b2)))\n",
    "    c = np.array((c1,c2))\n",
    "    return np.linalg.solve(m,c)"
   ]
  },
  {
   "cell_type": "code",
   "execution_count": null,
   "id": "2ac1771e-29f3-460e-b7d1-0b21612d7b3d",
   "metadata": {},
   "outputs": [],
   "source": [
    "# Will fail if lines are parallel!\n",
    "def do_segments_intersect(s1,s2):\n",
    "    u1,u2 = s1\n",
    "    v1,v2 = s2\n",
    "    l1, l2 = distance(*s1), distance(*s2)\n",
    "    x,y = intersection(u1,u2,v1,v2)\n",
    "    return (distance(u1, (x,y)) <= l1 and\n",
    "            distance(u2, (x,y)) <= l1 and\n",
    "            distance(v1, (x,y)) <= l2 and\n",
    "            distance(v2, (x,y)) <= l2)"
   ]
  },
  {
   "cell_type": "code",
   "execution_count": null,
   "id": "8c9464c9-2b55-4400-b7b8-c3eee0ff81f1",
   "metadata": {},
   "outputs": [],
   "source": [
    "def PolygonModel__does_intersect(self, other_segment):\n",
    "    for segment in self.segments():\n",
    "        if do_segments_intersect(other_segment,segment):\n",
    "            return True\n",
    "    return False\n",
    "\n",
    "PolygonModel.does_intersect = PolygonModel__does_intersect"
   ]
  },
  {
   "cell_type": "markdown",
   "id": "4231939f-2afb-4b7c-bd82-96bbab9120f4",
   "metadata": {},
   "source": [
    "### 7.2.6 Identifying unsolvable systems"
   ]
  },
  {
   "cell_type": "code",
   "execution_count": null,
   "id": "c174cf77-9709-4c8b-835a-de139f84d1e4",
   "metadata": {},
   "outputs": [],
   "source": [
    "def do_segments_intersect(s1,s2):\n",
    "    u1,u2 = s1\n",
    "    v1,v2 = s2\n",
    "    d1, d2 = distance(*s1), distance(*s2)\n",
    "    try:\n",
    "        x,y = intersection(u1,u2,v1,v2)\n",
    "        return (distance(u1, (x,y)) <= d1 and\n",
    "                distance(u2, (x,y)) <= d1 and\n",
    "                distance(v1, (x,y)) <= d2 and\n",
    "                distance(v2, (x,y)) <= d2)\n",
    "    except np.linalg.linalg.LinAlgError:\n",
    "        return False"
   ]
  },
  {
   "cell_type": "markdown",
   "id": "a9a81989-fb3f-4ac0-843e-85212276cbad",
   "metadata": {},
   "source": [
    "### 7.2.7 Exercise"
   ]
  },
  {
   "cell_type": "markdown",
   "id": "2a074792-b7e7-42ee-8465-5ad2b167edbe",
   "metadata": {},
   "source": [
    "**Exercise 7.11** Write a Python function `standard_form` that takes two vectors\n",
    "`v1` and `v2` and finds the line `ax + by = c` passing through both of them."
   ]
  },
  {
   "cell_type": "code",
   "execution_count": null,
   "id": "eafd4a26-db3a-4f9e-964b-cb1622ef94c6",
   "metadata": {},
   "outputs": [],
   "source": [
    "def standard_form(v1, v2):\n",
    "    x1, y1 = v1\n",
    "    x2, y2 = v2\n",
    "    a = y2 - y1\n",
    "    b = x1 - x2\n",
    "    c = x1 * y2 - y1 * x2\n",
    "    return a,b,c"
   ]
  },
  {
   "cell_type": "markdown",
   "id": "3c42790f-7574-4c7a-9049-3f10f69db15a",
   "metadata": {},
   "source": [
    "**Exercise 7.12** For each of the four distance checks in\n",
    "`do_segments_intersect`, find a pair of line segments that fail one of the checks\n",
    "but pass the other three checks."
   ]
  },
  {
   "cell_type": "code",
   "execution_count": null,
   "id": "0e65ddec-ea73-4a12-aa1d-04cdc6b4b696",
   "metadata": {},
   "outputs": [],
   "source": [
    "def segment_checks(s1,s2):\n",
    "    u1,u2 = s1\n",
    "    v1,v2 = s2\n",
    "    l1, l2 = distance(*s1), distance(*s2)\n",
    "    x,y = intersection(u1,u2,v1,v2)\n",
    "    return [\n",
    "        distance(u1, (x,y)) <= l1,\n",
    "        distance(u2, (x,y)) <= l1,\n",
    "        distance(v1, (x,y)) <= l2,\n",
    "        distance(v2, (x,y)) <= l2\n",
    "    ]"
   ]
  },
  {
   "cell_type": "code",
   "execution_count": null,
   "id": "30cd90fa-532c-47f1-969c-215c6cd72493",
   "metadata": {},
   "outputs": [],
   "source": [
    "segment_checks(((-3,0),(-1,0)),((0,-1),(0,1)))"
   ]
  },
  {
   "cell_type": "code",
   "execution_count": null,
   "id": "450943d9-65a1-47db-ab88-be4d597124cd",
   "metadata": {},
   "outputs": [],
   "source": [
    "segment_checks(((1,0),(3,0)),((0,-1),(0,1)))"
   ]
  },
  {
   "cell_type": "code",
   "execution_count": null,
   "id": "1d467ed4-4ffe-4482-931a-fbf973ea89ec",
   "metadata": {},
   "outputs": [],
   "source": [
    "segment_checks(((-1,0),(1,0)),((0,-3),(0,-1)))"
   ]
  },
  {
   "cell_type": "code",
   "execution_count": null,
   "id": "8c3b7395-257b-45fa-b385-3b1287df9e9b",
   "metadata": {},
   "outputs": [],
   "source": [
    "segment_checks(((-1,0),(1,0)),((0,1),(0,3)))"
   ]
  },
  {
   "cell_type": "markdown",
   "id": "c1dd3f6b-d85c-48e2-892e-d327373d6e32",
   "metadata": {},
   "source": [
    "**Exercise 7.14** Write a method to decide whether two `PolygonModel` objects collide."
   ]
  },
  {
   "cell_type": "code",
   "execution_count": null,
   "id": "e0ee2fe8-e27a-4910-8e4f-051fff1bb716",
   "metadata": {},
   "outputs": [],
   "source": [
    "def PolygonModel__segments(self):\n",
    "    point_count = len(self.points)\n",
    "    points = self.transformed()\n",
    "    return [(points[i], points[(i+1)%point_count])\n",
    "            for i in range(0,point_count)]\n",
    "\n",
    "def PolygonModel__does_collide(self, other_poly):\n",
    "    for other_segment in other_poly.segments():\n",
    "        if self.does_intersect(other_segment):\n",
    "            return True\n",
    "    return False\n",
    "\n",
    "PolygonModel.segments = PolygonModel__segments\n",
    "PolygonModel.does_collide = PolygonModel__does_collide"
   ]
  },
  {
   "cell_type": "code",
   "execution_count": null,
   "id": "608d186d-06ee-4245-94a3-2635bf2b7ad5",
   "metadata": {},
   "outputs": [],
   "source": [
    "square1 = PolygonModel([(0,0), (3,0), (3,3), (0,3)])\n",
    "square2 = PolygonModel([(1,1), (4,1), (4,4), (1,4)])\n",
    "square3 = PolygonModel([(-3,-3),(-2,-3),(-2,-2),(-3,-2)])\n",
    "square1.does_collide(square2), square1.does_collide(square3)"
   ]
  },
  {
   "cell_type": "markdown",
   "id": "8c8dca30-d45d-4089-8622-3513f1770529",
   "metadata": {},
   "source": [
    "### pygame code - final version\n",
    "\n",
    "This should be equivalent to `asteroids.py`, except without the screenshot feature."
   ]
  },
  {
   "cell_type": "code",
   "execution_count": null,
   "id": "fcc43eeb-b32e-41b1-b8a3-ea0237b7d841",
   "metadata": {},
   "outputs": [],
   "source": [
    "def PolygonModel__move(self, milliseconds):\n",
    "    self.rotation_angle += self.angular_velocity * milliseconds / 1000.0\n",
    "\n",
    "PolygonModel.move = PolygonModel__move"
   ]
  },
  {
   "cell_type": "code",
   "execution_count": null,
   "id": "dd3852a5-abfc-4267-bbe6-fc17e54058a4",
   "metadata": {},
   "outputs": [],
   "source": [
    "def init_objects():\n",
    "    global ship, asteroids\n",
    "\n",
    "    ship = Ship()\n",
    "\n",
    "    asteroid_count = 10\n",
    "    asteroids = [Asteroid() for _ in range(0,asteroid_count)]\n",
    "\n",
    "    for ast in asteroids:\n",
    "        ast.x = randint(-9,9)\n",
    "        ast.y = randint(-9,9)\n",
    "        ast.rotation_angle = 0\n",
    "        ast.angular_velocity = uniform(-pi/2,pi/2)\n",
    "\n",
    "def move_objects():\n",
    "    keys = pygame.key.get_pressed()\n",
    "\n",
    "    for ast in asteroids:\n",
    "        ast.move(milliseconds)\n",
    "\n",
    "    if keys[pygame.K_LEFT]:\n",
    "        ship.rotation_angle += milliseconds * (2*pi / 1000)\n",
    "    if keys[pygame.K_RIGHT]:\n",
    "        ship.rotation_angle -= milliseconds * (2*pi / 1000)"
   ]
  },
  {
   "cell_type": "code",
   "execution_count": null,
   "id": "f827d4a6-086d-461d-b17b-96e1db017acc",
   "metadata": {},
   "outputs": [],
   "source": [
    "def run_game():\n",
    "    init_objects()\n",
    "    init_pygame()\n",
    "\n",
    "    while not done:\n",
    "        start_loop()\n",
    "        move_objects()\n",
    "        check_fire_laser()\n",
    "        draw_objects()\n",
    "        pygame.display.flip()\n",
    "    pygame.quit()"
   ]
  },
  {
   "cell_type": "code",
   "execution_count": null,
   "id": "47d35c52-c8ff-440d-895c-a8e9d310b575",
   "metadata": {},
   "outputs": [],
   "source": [
    "run_game()"
   ]
  },
  {
   "cell_type": "markdown",
   "id": "4840cfa1-a49b-4bf6-9172-00eab2a2070c",
   "metadata": {},
   "source": [
    "### Alternative intersection detection\n",
    "\n",
    "The book converts each line segment into the standard form (*`ax + by = c`*)\n",
    "before detection whether two line segments intersect.\n",
    "Here is an alternative idea, which uses parametric form of line segments\n",
    "for intersection detection. Given two line segments *`(u1, u2)`* and *`(v1, v2)`*,\n",
    "we can write *`u1 + (u2 - u1) * s = v1 + (v2 - v1) * t`*. Solving for *`s`* and *`t`*\n",
    "yields *`(u2 - u1) * s + (v1 - v2) * t = v1 - u1`*."
   ]
  },
  {
   "cell_type": "code",
   "execution_count": null,
   "id": "55c470f6-1adc-4463-9c33-dab108ad5f1d",
   "metadata": {},
   "outputs": [],
   "source": [
    "def do_segments_intersect_alt(s1,s2):\n",
    "    try:\n",
    "        u1,u2 = s1\n",
    "        v1,v2 = s2\n",
    "        m = np.array(((u2[0]-u1[0], v1[0]-v2[0]), (u2[1]-u1[1], v1[1]-v2[1])))\n",
    "        c = np.array((v1[0]-u1[0], v1[1]-u1[1]))\n",
    "        s, t = np.linalg.solve(m, c)\n",
    "        # With the parametric form, it is much easier to determine whether the\n",
    "        # intersection is within th line segments.\n",
    "        result = s>=0 and s<=1 and t>=0 and t<=1\n",
    "    except np.linalg.linalg.LinAlgError:\n",
    "        result = False\n",
    "\n",
    "    # In theory, the assert can fail in corner cases due to floating rounding errors.\n",
    "    # In practice, the probability of failure is negligible.\n",
    "    assert result == do_segments_intersect(s1,s2)\n",
    "    return result"
   ]
  },
  {
   "cell_type": "code",
   "execution_count": null,
   "id": "a9cef633-998c-4209-8cb2-c6daeba0a9e9",
   "metadata": {},
   "outputs": [],
   "source": [
    "def PolygonModel__does_intersect(self, other_segment):\n",
    "    for segment in self.segments():\n",
    "        if do_segments_intersect_alt(other_segment,segment):\n",
    "            return True\n",
    "    return False\n",
    "\n",
    "PolygonModel.does_intersect = PolygonModel__does_intersect"
   ]
  },
  {
   "cell_type": "code",
   "execution_count": null,
   "id": "a6de339d-e351-4063-8e8a-c9c9b636c0ee",
   "metadata": {},
   "outputs": [],
   "source": [
    "run_game()"
   ]
  },
  {
   "cell_type": "markdown",
   "id": "f128a58e-7d87-4876-acdc-6c9cb9e6f9ad",
   "metadata": {},
   "source": [
    "## 7.3 Generalizing linear equations to higher dimensions"
   ]
  },
  {
   "cell_type": "markdown",
   "id": "33bcd299-9dd6-4265-b086-3b93ba2e21ed",
   "metadata": {},
   "source": [
    "#### Figure 7.25 Three planes plotted in Matplotlib"
   ]
  },
  {
   "cell_type": "code",
   "execution_count": null,
   "id": "c75ded57-8537-427f-a36c-a97f4a741f0a",
   "metadata": {},
   "outputs": [],
   "source": [
    "ax = plt.subplot(1, 1, 1, projection='3d')\n",
    "x = y = np.array([-6, 6])\n",
    "x, y = np.meshgrid(x, y)\n",
    "ax.plot_surface(x, y, x + y + 1, color='b', alpha=0.3)\n",
    "ax.plot_surface(x, y, 2 * y - 3, color='y', alpha=0.3)\n",
    "ax.plot_surface(x, y, 2 - x,     color='m', alpha=0.3)\n",
    "plt.show()"
   ]
  },
  {
   "cell_type": "markdown",
   "id": "9b68abf3-b62d-4627-9298-fc0f9f46d773",
   "metadata": {},
   "source": [
    "#### Exercise 7.22 Three non-parallel planes that don't share an intersection point"
   ]
  },
  {
   "cell_type": "code",
   "execution_count": null,
   "id": "9911c535-d894-4d7a-9107-50c6a0813e02",
   "metadata": {},
   "outputs": [],
   "source": [
    "ax = plt.subplot(1, 1, 1, projection='3d')\n",
    "x = y = np.array([-6, 6])\n",
    "x, y = np.meshgrid(x, y)\n",
    "ax.plot_surface(x, y, -y,        color='b', alpha=0.3)\n",
    "ax.plot_surface(x, y,  y,        color='y', alpha=0.3)\n",
    "ax.plot_surface(x, y, 0 * y + 3, color='m', alpha=0.3)\n",
    "ax.plot([-6, 6], [0, 0], [0, 0], color='black', linewidth=2)\n",
    "ax.plot([-6, 6], [-3, -3], [3, 3], color='black', linewidth=2)\n",
    "ax.plot([-6, 6], [3, 3], [3, 3], color='black', linewidth=2)\n",
    "plt.show()"
   ]
  },
  {
   "cell_type": "markdown",
   "id": "73cc16e0-6859-4a5c-8c71-09a222bbcd92",
   "metadata": {},
   "source": [
    "#### Exercise 7.24 Three planes intersecting at a single point"
   ]
  },
  {
   "cell_type": "code",
   "execution_count": null,
   "id": "a3afdc91-1270-4330-9d52-757039a17800",
   "metadata": {},
   "outputs": [],
   "source": [
    "ax = plt.subplot(1, 1, 1, projection='3d')\n",
    "ax.view_init(elev=20, azim=-60)\n",
    "x = y = np.array([-6, 6])\n",
    "x, y = np.meshgrid(x, y)\n",
    "ax.plot_surface(x, y, -y, color='b', alpha=0.3)\n",
    "ax.plot_surface(x, y,  y, color='y', alpha=0.3)\n",
    "ax.plot_surface(x, y, -x, color='m', alpha=0.3)\n",
    "ax.plot([-6, 6], [0, 0], [0, 0], color='black', linewidth=2)\n",
    "ax.plot([-6, 6], [-6, 6], [6, -6], color='black', linewidth=2)\n",
    "ax.plot([-6, 6], [6, -6], [6, -6], color='black', linewidth=2)\n",
    "ax.scatter([0], [0], [0], s=70, color='black')\n",
    "plt.show()"
   ]
  }
 ],
 "metadata": {
  "kernelspec": {
   "display_name": "Python 3 (ipykernel)",
   "language": "python",
   "name": "python3"
  },
  "language_info": {
   "codemirror_mode": {
    "name": "ipython",
    "version": 3
   },
   "file_extension": ".py",
   "mimetype": "text/x-python",
   "name": "python",
   "nbconvert_exporter": "python",
   "pygments_lexer": "ipython3",
   "version": "3.9.13"
  }
 },
 "nbformat": 4,
 "nbformat_minor": 5
}
